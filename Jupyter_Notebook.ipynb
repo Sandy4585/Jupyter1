{
  "metadata": {
    "kernelspec": {
      "name": "python",
      "display_name": "Pyolite",
      "language": "python"
    },
    "language_info": {
      "codemirror_mode": {
        "name": "python",
        "version": 3
      },
      "file_extension": ".py",
      "mimetype": "text/x-python",
      "name": "python",
      "nbconvert_exporter": "python",
      "pygments_lexer": "ipython3",
      "version": "3.8"
    }
  },
  "nbformat_minor": 4,
  "nbformat": 4,
  "cells": [
    {
      "cell_type": "markdown",
      "source": "<center>\n    <img src=\"https://cf-courses-data.s3.us.cloud-object-storage.appdomain.cloud/IBMDeveloperSkillsNetwork-DS0105EN-SkillsNetwork/labs/Module2/images/SN_web_lightmode.png\" width=\"300\" alt=\"cognitiveclass.ai logo\"  />\n</center>\n",
      "metadata": {}
    },
    {
      "cell_type": "markdown",
      "source": "#### Add your code below following the instructions given in the course\n",
      "metadata": {}
    },
    {
      "cell_type": "markdown",
      "source": "\n# \"My Jupyter Notebook on IBM Watson studio\"\n",
      "metadata": {}
    },
    {
      "cell_type": "markdown",
      "source": " SANTHOSH KUMAR VELAN\n RENEWABLE ENERGY ENGINEER",
      "metadata": {}
    },
    {
      "cell_type": "markdown",
      "source": "Data is the brain of every organisation. I am interseted in data science because I dream about starting a company and I want my company to make effective decisions to reach the goal.",
      "metadata": {}
    },
    {
      "cell_type": "markdown",
      "source": "### Kilometers to Miles",
      "metadata": {}
    },
    {
      "cell_type": "code",
      "source": "# This program adds two numbers\n\nnum1 = 1.5\nnum2 = 6.3\n\n# Add two numbers\nsum = num1 + num2\n\n# Display the sum\nprint('The sum of {0} and {1} is {2}'.format(num1, num2, sum))",
      "metadata": {
        "trusted": true
      },
      "execution_count": 5,
      "outputs": [
        {
          "name": "stdout",
          "text": "The sum of 1.5 and 6.3 is 7.8\n",
          "output_type": "stream"
        }
      ]
    },
    {
      "cell_type": "code",
      "source": "* This is the first list item.\n* Here's the second list item.\n\n    > A blockquote would look great below the second list item.\n\n* And here's the third list item.\n* Image of the third item.\n![Messi](https://en.wikipedia.org/wiki/Lionel_Messi#/media/File:Lionel-Messi-Argentina-2022-FIFA-World-Cup_(cropped).jpg)\n",
      "metadata": {},
      "execution_count": null,
      "outputs": []
    }
  ]
}